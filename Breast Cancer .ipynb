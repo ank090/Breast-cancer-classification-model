{
  "nbformat": 4,
  "nbformat_minor": 0,
  "metadata": {
    "colab": {
      "name": "Ultimate classification model.ipynb",
      "provenance": [],
      "collapsed_sections": [],
      "authorship_tag": "ABX9TyPIh4Msmsv9VCvpNs4oM1dP",
      "include_colab_link": true
    },
    "kernelspec": {
      "name": "python3",
      "display_name": "Python 3"
    },
    "language_info": {
      "name": "python"
    }
  },
  "cells": [
    {
      "cell_type": "markdown",
      "metadata": {
        "id": "view-in-github",
        "colab_type": "text"
      },
      "source": [
        "<a href=\"https://colab.research.google.com/github/ank090/Breast-cancer-classification-model/blob/main/Ultimate_classification_model.ipynb\" target=\"_parent\"><img src=\"https://colab.research.google.com/assets/colab-badge.svg\" alt=\"Open In Colab\"/></a>"
      ]
    },
    {
      "cell_type": "code",
      "metadata": {
        "id": "pBq1QM1LdfL4"
      },
      "source": [
        "import pandas as pd\n",
        "import numpy as np\n",
        "from sklearn.neighbors import KNeighborsClassifier\n",
        "from sklearn.linear_model import LogisticRegression\n",
        "from sklearn.svm import SVC\n",
        "from sklearn.tree import DecisionTreeClassifier\n",
        "from sklearn.ensemble import RandomForestClassifier\n",
        "from sklearn.model_selection import train_test_split\n",
        "from sklearn.preprocessing import StandardScaler\n",
        "from sklearn.metrics import confusion_matrix, accuracy_score"
      ],
      "execution_count": 19,
      "outputs": []
    },
    {
      "cell_type": "markdown",
      "metadata": {
        "id": "KtjFgK61i-Qm"
      },
      "source": [
        "Importing dataset"
      ]
    },
    {
      "cell_type": "code",
      "metadata": {
        "id": "aAFg6gOii-C5"
      },
      "source": [
        "dataset=pd.read_csv('Data.csv')\n",
        "x=dataset.iloc[:,:-1].values\n",
        "y=dataset.iloc[:,-1].values"
      ],
      "execution_count": 20,
      "outputs": []
    },
    {
      "cell_type": "markdown",
      "metadata": {
        "id": "NLz5wrbKkEl2"
      },
      "source": [
        "Splitting dataset in to train and test set"
      ]
    },
    {
      "cell_type": "code",
      "metadata": {
        "id": "3td8K2kUjTUF"
      },
      "source": [
        "x_train,x_test,y_train,y_test=train_test_split(x,y,test_size=0.3,random_state=0)"
      ],
      "execution_count": 21,
      "outputs": []
    },
    {
      "cell_type": "markdown",
      "metadata": {
        "id": "KbnAVdwUkokh"
      },
      "source": [
        "Feature Scaling"
      ]
    },
    {
      "cell_type": "code",
      "metadata": {
        "id": "Untq8XB3kpyE"
      },
      "source": [
        "sc=StandardScaler()\n",
        "x_train=sc.fit_transform(x_train)\n",
        "x_test=sc.fit_transform(x_test)"
      ],
      "execution_count": 22,
      "outputs": []
    },
    {
      "cell_type": "markdown",
      "metadata": {
        "id": "ez4kc0wDlcmb"
      },
      "source": [
        "Trsining the Selected model on dataset"
      ]
    },
    {
      "cell_type": "code",
      "metadata": {
        "id": "U4hJCGflk92Q"
      },
      "source": [
        "def modelsel(name,x_train,y_train,key,op):\n",
        "  \n",
        "  if name=='1':\n",
        "    print('# knn in action\\n')\n",
        "    classifier = KNeighborsClassifier(n_neighbors = 5, metric = 'minkowski', p = 2)\n",
        "    classifier.fit(x_train,y_train)\n",
        "  elif name=='2':\n",
        "    print('# logistic regression in action \\n')\n",
        "    classifier=LogisticRegression(random_state=0)\n",
        "    classifier.fit(x_train,y_train)\n",
        "  elif name=='3':\n",
        "    print('# Decision tree classifier in action\\n')\n",
        "    classifier=DecisionTreeClassifier(criterion='entropy',random_state=0)\n",
        "    classifier.fit(x_train,y_train)\n",
        "  elif name=='4':\n",
        "    print('# Support Vector Machine in action \\n')\n",
        "    classifier=SVC(kernel='rbf',random_state=0)\n",
        "    classifier.fit(x_train,y_train)\n",
        "  elif name=='5':\n",
        "    print('# Random forest Classifier in action \\n')\n",
        "    classifier=RandomForestClassifier(n_estimators=100,criterion='entropy',random_state=0)\n",
        "    classifier.fit(x_train,y_train)\n",
        "  #Checking the accuracy \n",
        "  if op==\"2\":\n",
        "    print(\"\\n # enter all the features\")\n",
        "    for i in range(10):\n",
        "      key[0].append(input())\n",
        "    y_pred = classifier.predict(sc.transform(key))\n",
        "    print(\"\\n entered featurs:- \",key)\n",
        "    print(\"\\n # Showing the prediction by selected model:-\\n\")\n",
        "    print(\"Class \",*y_pred,)\n",
        "  else:\n",
        "    print(\"\\n # Showing the accuracy of the selected model:- \\n\")\n",
        "    y_pred = classifier.predict(x_test)\n",
        "    cm = confusion_matrix(y_test, y_pred)\n",
        "    print('confusion matrix:- \\n',cm,'\\n')\n",
        "    acc=accuracy_score(y_test, y_pred)\n",
        "    print('accuracy = ',acc)"
      ],
      "execution_count": 23,
      "outputs": []
    },
    {
      "cell_type": "markdown",
      "metadata": {
        "id": "3yrVTdf13JIV"
      },
      "source": [
        "Calling the function"
      ]
    },
    {
      "cell_type": "code",
      "metadata": {
        "colab": {
          "base_uri": "https://localhost:8080/"
        },
        "id": "zQpwdnUb3I5G",
        "outputId": "4ae1bac5-5d29-48e2-e298-16929824d0d3"
      },
      "source": [
        "\n",
        "print('# enter the model number eg:- (1) \\n 1) knn \\n 2) logistic_Regression \\n 3) decision_tree \\n 4) SVM \\n 5) Random_Forest \\n')\n",
        "model=input()\n",
        "print('# enter the operation number eg:- (2)\\n 1) Accuracy of selected model \\n 2) Perdict the class of cancer by entering all the features \\n')\n",
        "#key=[[888820,5,10,10,3,7,3,8,10,2]]\n",
        "key=[[]]\n",
        "\n",
        "operation=input()\n",
        "modelsel(model,x_train,y_train,key,operation)"
      ],
      "execution_count": 24,
      "outputs": [
        {
          "output_type": "stream",
          "name": "stdout",
          "text": [
            "# enter the model number eg:- (1) \n",
            " 1) knn \n",
            " 2) logistic_Regression \n",
            " 3) decision_tree \n",
            " 4) SVM \n",
            " 5) Random_Forest \n",
            "\n",
            "2\n",
            "# enter the operation number eg:- (2)\n",
            " 1) Accuracy of selected model \n",
            " 2) Perdict the class of cancer by entering all the features \n",
            "\n",
            "2\n",
            "# logistic regression in action \n",
            "\n",
            "\n",
            " # enter all the features\n",
            "888820\n",
            "5\n",
            "10\n",
            "10\n",
            "3\n",
            "7\n",
            "3\n",
            "8\n",
            "10\n",
            "2\n",
            "\n",
            " entered featurs:-  [['888820', '5', '10', '10', '3', '7', '3', '8', '10', '2']]\n",
            "\n",
            " # Showing the prediction by selected model:-\n",
            "\n",
            "Class  4\n"
          ]
        }
      ]
    }
  ]
}
